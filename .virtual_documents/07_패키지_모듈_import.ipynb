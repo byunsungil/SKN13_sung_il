





%%writefile mypackage.weight_helper.py
# %%writefile 파일경로 -> cell의 작성한 내용을 경로의 파일에 작성(저장.) -> cell의 첫줄에 넣어야함 (jupyter lab 기능.)

def check_bmi(tall, weight):
    return weight / tall**2


# %load mypackage.weight_helper.py
# %%writefile 파일경로 -> cell의 작성한 내용을 경로의 파일에 작성(저장.) -> cell의 첫줄에 넣어야함

def check_bmi(tall, weight):
    return weight / tall**2



























# calculator 모듈을 import
import mypackage.calculator


import mypackage.calculator as calc


calc.plus(1,2)


from mypackage import calculator


calculator.plus(3,2)


# 모듈에 있는 함수, 클래스를 import
from mypackage.calculator import plus # from package.모듈명 import 함수/클래스 -> 현재 실행중인 모듈(__main__)의 namespace에 정의


plus(10,2)


from mypackage import calculator


print(__name__)





%%writefile c:\sk_temp\pkg\util.py

def hello():
    print("안녕하세요")


import sys
sys.path


sys.path.append(r"c:\sk_temp")
sys.path


from pkg import util
util.hello()

















import pandas as pd


# UPGRADE
pip install pandas -U


# 삭제
pip uninstall pandas


# jupyter lab에서 pip 명령어 사용

%pip install matplotlib



