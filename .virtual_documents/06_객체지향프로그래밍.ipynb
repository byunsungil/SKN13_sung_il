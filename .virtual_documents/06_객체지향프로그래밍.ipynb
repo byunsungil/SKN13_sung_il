


print(type("abc"), type(30))








# 클래스 정의 -> 데이터타입을 정의
class Person:
    pass


# 클래스로부터 객체(instance) 를 생성 -> 값을 생성.
p = Person()


p2 = Person()


type(p), type(p2)


print(type(p), type(20), type(True))








class Person:
    pass


p = Person()

p.name = "홍길동"


p2 = Person()
p2.name = "이순신"


p.name


p2.name


p.name = "유관순"


p.name


p2.name


p.age = 30   # name, age
p.name, p.age


p3 = Person()
p3.이름 = "강감찬"


# Initializer 를 이용해 instance 변수(속성) 초기화
## 같은 클래스에서 생성된 모든 값들(instance)이 공통적으로 가져야 하는 instance변수들을 정의


class Person1:

    def __init__(self, name, age, address=None):
        """
        Args:
            self(Person1) - 생성중인 객체(instance)
            name,age,address(추가 파라미터) - instance 변수에 저장할 값
        """
        self.name = name
        self.age = age
        self.address = address

p = Person1("홍길동", 20)


p = Person1("홍길동", 20) # __init__()을 호출


print(p.name, p.age, p.address)


p2 = Person1("이순신", 30, "서울시 금천구")
print(p2.name, p2.age, p2.address)


p2.__dict__ # instance -> dictionary








class Person2:

    def __init__(self, name, age, address=None):
        """
        Args:
            self(Person1) - 생성중인 객체(instance)
            name,age,address(추가 파라미터) - instance 변수에 저장할 값
        """
        self.name = name
        self.age = age
        self.address = address

    def get_info(self):
        """
        Person의 정보를 반환하는 메소드. (name, age, address를 하나의 문자열에 묶어서 반환)
        """
        return f"이름: {self.name}, 나이: {self.age}, 주소: {self.address}"


p1 = Person2("홍길동", 20, "서울")
p2 = Person2("이순신", 30, "인천")

info1 = p1.get_info()
info2 = p2.get_info()


print(info1)


print(info2)





class Person:

    def eat(self):
        print("밥을 먹습니다.")
        
    def go(self, dest):
        print(f"{dest}에 갑니다.")

p = Person()
p.eat()
p.go("학교")


s.eat()
s.eatting()


# Person을 상속하는 클래스: Student, Teacher
class Student(Person):

    def study(self, subject):
        print(f"{subject}를 공부합니다.")

class Teacher(Person):

    def teach(self, subject):
        print(f"{subject}를 가르칩니다.")


s = Student()
s.study("수학")
s.eat()
s.go("학교")


t = Teacher()
t.teach("과학")
t.eat()
t.go("집")








# Person을 상속하는 클래스: Student, Teacher
class Student(Person):
    def eat(self):
        print("급식을 먹습니다.")
    
    def study(self, subject):
        print(f"{subject}를 공부합니다.")

class Teacher(Person):
    def eat(self):
        print("식당밥을 먹습니다.")
        
    def teach(self, subject):
        print(f"{subject}를 가르칩니다.")

    def go(self, dest):
        print(f"차를 타고 {dest}에 갑니다.")


s = Student()
s.eat()
s.go("집")


t = Teacher()
t.eat()
t.go("집")


class Calculator:
    def calculate(self, num1, num2):
        pass
        
class Plus(Calculator):
    def calculate(self, num1, num2):
        덧셈코드

class Minus(Calculator):
    def calculate(self, num1, num2):
        뺄셈

class Divide(Calculator):
    def calculate(self, num1, num2):
        나눗셈
    


class Person:

    def __init__(self, name, age):
        self.name = name
        self.age = age

    def get_info(self):
        return f"이름: {self.name}, 나이: {self.age}"


class Student(Person):
    def __init__(self, name, age, grade):
        # self.name = name
        # self.age = age
        super().__init__(name, age) # 부모클래스의 __init__()을 호출
        self.grade = grade

    def get_info(self):
        # return f"이름: {self.name}, 나이: {self.age}, 성적: {self.grade}"
        return f"{super().get_info()}, 성적: {self.grade}"


s = Student("김학생", 16, 10)
print(s.name, s.age, s.grade)


s.get_info()


class Teacher(Person):

    def __init__(self, name, age, subject):
        super().__init__(name, age)
        self.subject = subject

    def get_info(self):
        return f"{super().get_info()}, 과목: {self.subject}"


t = Teacher("이선생", 30, "수학")
print(t.name, t.age, t.subject)


t.get_info()





# MRO
class SuperA:
    pass
    
class A(SuperA):
    pass

class B:
    pass

class C:
    pass

class D(A, B, C):
    pass


D.mro()  # 호출 순서를 확인.
# d.xxxx()








s = Student("이학생", 10, 5)
s.__dict__


a = 10
type(a) == int


isinstance(a, int)


a = 3.1334
a = "aaaa"
isinstance(a, (int, float))  # int 또는 float이면?


type(s)


isinstance(s, Student)


isinstance(s, Person)


# type(s) == Person


def check_person(p):
    # if isinstance(p, (Teacher, Student, Employee)):
    if isinstance(p, Person):
        info = p.get_info()
        print(info)
    else:
        print("xxxxxxx")
    


check_person("aaaaa")


class Employee(Person):
    def __init__(self, name, age, dept):
        super().__init__(name, age)
        self.dept = dept


e = Employee("최직원", 40, "총무부")
check_person(e)


check_person(s)


check_person(t)























class Person:

    def __init__(self, name, age):
        # __init__(): 객체 생성하는 시점에 호출 -> instance 변수 초기화 
        self.name = name
        self.age = age
        # print("객체 생성됨")

    def __str__(self):
        # str(객체) : 객체를 str으로 변환하는 코드를 작성. => attribute들을 모아서 문자열로 반환
        return f"name: {self.name}, age: {self.age}"

    ## 연산자 재정의 특수 메소드들을 재정의
    ###  == 비교시 호출되는 메소드
    def __eq__(self, obj):
        # p1 == p4  : self:p1, obj: p4 ==> p1.__eq__(p4)
        if not isinstance(obj, Person):
            return False

        if self.name == obj.name and self.age == obj.age: # self와 obj의 instance 변수가 같은지
            return True
        else:
            return False

    def __gt__(self, obj):  # p1 > p2  ==> p1.__gt__(p2)
        # self의 age가 obj의 age보다 큰지 여부를 반환.
        if not isinstance(obj, Person):
            return False

        return self.age > obj.age

    def __add__(self, obj): # p:self + other:obj
        # obj가 Person 이면 obj.age를 self.age에 더한 결과를 반환
        # obj가 int이면 obj를 self.age에 더한 결과를 반환
        if isinstance(obj, Person):
            return self.age + obj.age
        elif isinstance(obj, (int, float)):
            return self.age + obj
        else:
            return "더 할수 없습니다."
            
p = Person("이순신", 30)


type(str(p) )
str(p)


str(30)


print(p)  #print(값) -> 값을 str로 변환(str(값))한 결과를 출력


p1 = Person("이순신", 30)
p2 = Person("홍길동", 15)
p3 = Person("이순신", 30)

print(p1 == p2) # 둘이 같은 instance인지를 비교
print(p1 == p3)


p4 = p1
p1 == p4


p1 == p4
p1.__eq__(p4)


p1 > p2


p1 + p2


p1 + 50


p1 + "abc"


p1()
# callable 타입 - 호출가능한 타입 => 함수, 메소드 처럼 호출해서 일을 시킬 수있는 타입.


class Plus:

    def __init__(self, num):
        self.num = num

    def __call__(self, num):
        return self.num + num



p = Plus(200)
# p.add(30)
a = p(30) # p.__call__(30)
print(a)
# p.add(-20)
p(-20)


p.num


p2 = Plus(-600)
p.num, p2.num











class Person:

    job_list = ["학생", "직장인", "자영업"]

    @classmethod
    def add_job(clazz, job):
        # job이 job_list에 없으면 append
        if job not in clazz.job_list:
            clazz.job_list.append(job)
        else:
            print(f"{job}은 이미 list에 있습니다.")
    
    def __init__(self, name, age, job):
        self.name = name
        self.age = age
        self.job = job

    def __str__(self):
        return f"이름: {self.name}, 나이: {self.age}, 직업: {self.job}"


Person.job_list


Person.add_job("사업")


Person.job_list


Person.add_job("사업")


Person.job_list



