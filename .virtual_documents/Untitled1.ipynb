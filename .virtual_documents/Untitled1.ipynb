import sys

# 입력 받기
N, M = map(int, input("나무의 수와 가져갈 나무의 길이를 입력하세요: ").split())

# N과 M의 범위 체크
if not (1 <= N <= 1_000_000):
    print("N의 범위는 1 ≤ N ≤ 1,000,000 입니다. 다시 입력해주세요.")
    sys.exit()

if not (1 <= M <= 2_000_000_000):
    print("M의 범위는 1 ≤ M ≤ 2,000,000,000 입니다. 다시 입력해주세요.")
    sys.exit()

# 나무의 높이 입력 받기
T = list(map(int, input("나무의 높이를 입력하세요: ").split()))

# 입력된 나무 개수 확인
if len(T) != N:
    print("입력한 나무 개수가 N과 일치하지 않습니다.")
    sys.exit()

# 이분 탐색을 사용하여 적절한 절단기 높이 찾기
def find_saw_height(T, M):
    low, high = 0, max(T)
    result = 0

    while low <= high:
        mid = (low + high) // 2  # 절단기 높이
        total_wood = sum(t - mid if t > mid else 0 for t in T)

        if total_wood >= M:  # 충분한 나무를 얻었으면 절단기 높이를 올림
            result = mid
            low = mid + 1
        else:  # 부족하면 절단기 높이를 낮춤
            high = mid - 1

    return result

# 결과 출력
print(find_saw_height(T, M))

