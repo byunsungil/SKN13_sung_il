# 첫째 줄에 나무의 수 N과 상근이가 집으로 가져가려고 하는 나무의 길이 M이 주어진다. (1 ≤ N ≤ 1,000,000, 1 ≤ M ≤ 2,000,000,000)
# 둘째 줄에는 나무의 높이가 주어진다. 
# 나무의 높이의 합은 항상 M보다 크거나 같기 때문에, 상근이는 집에 필요한 나무를 항상 가져갈 수 있다.
# 높이는 1,000,000,000보다 작거나 같은 양의 정수 또는 0이다.

N = int(input("나무의 수 : "))
M = int(input("가져갈 나무의 길이 : "))

if not 1 <= N <= 1_000_000:
    print("N의 범위는 1 ≤ N ≤ 1,000,000 까지 입니다 다시 입력해주세요 : ")

if not 1 <= M <= 2_000_000_000:
    print("M의 범위는 1 ≤ M ≤ 2,000,000,000 까지 입니다 다시 입력해주세요 : ")

T = []
for i in range(N):
    t = int(input("나무의 높이를 입력해주세요 : "))
    T.append(t)
    if not 1 <= t <= 1_000_000_000:
        print("t의 범위는 1 ≤ t ≤ 1,000,000,000 까지 입니다 다시 입력해주세요 : ")

def find_saw_height(T, M):
    low, high = 0, max(T)
    H = 0

    while low <= high:
        H = (low + high) // 2  # 절단기 높이
        total_wood = sum(t - H if t > H else 0 for t in T)

        if total_wood >= M:  # 충분한 나무를 얻었으면 절단기 높이를 올림
            low = H + 1
        else:  # 부족하면 절단기 높이를 낮춤
            high = H - 1

    return H



