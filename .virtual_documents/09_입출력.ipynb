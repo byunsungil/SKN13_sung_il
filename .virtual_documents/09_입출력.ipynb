











# 현재 디렉토리(working directory) 확인 -> 프로그램을 실행시킨 디렉토리
import os
os.getcwd() # current working directory


# working directory를 변경
os.chdir("mypackage")


os.getcwd()


os.chdir("C:\\SKN13_sung_il_git\\SKN13_sung_il")


os.getcwd()


os.mkdir("new_dir")


os.rmdir("new_dir")














# a.txt 파일에 문자열을 출력하는 코드

# 1. 연결
fw = open("./a.txt", "wt", encoding = "utf-8")
print(type(fw))

# 2. 출력(쓰기)
fw.write("안녕하세요.\n")
fw.write("하이요.")

# 3. 연결 닫기
fw.close()


text_list = ["ㅎㅇ\n","ㅂㅇ\n","ㅃㅇ"]

fw2 = open("./b.txt","wt",encoding = "utf-8")

# for txt in text_list:
#     fw2.write(txt)
fw2.writelines(text_list)

fw2.close()


# a.txt의 내용을 읽기

fr = open("./a.txt", "rt", encoding = "utf-8")

txt = fr.read()

fr.close()


txt


fr2 = open("./b.txt", "rt", encoding = "utf-8")

# txt = fr2.read()
txt = fr2.readlines() # 라인단위로 끊어서 list에 담아 반환
print(txt)

fr2.close()


fr3 = open("./b.txt", "rt", encoding = "utf-8")

print(fr3.readlines()) # 한줄을 read
print(fr3.readlines()) # (다음) 한줄을 read
print(fr3.readlines()) # (다음) 한줄을 read
print(fr3.readlines()) # (다음) 한줄을 read -> 읽을것이 없으면(EOF) none반환

fr3.close()


fr4 = open("./b.txt", "rt", encoding = "utf-8")

for num, line in enumerate(fr4, start = 1):
    print(num, line.strip())

fr4.close()











# with block을 이용할 수 있는 객체를 context manager라고 함

with open("./a.txt", "rt", encoding = "utf-8") as fr:
    txt = fr.read()
    print(txt)
# with block이 끝나면 close가 자동으로 실행

print("\n종료")











import pickle

num = 10
with open("int_data.pkl","wb") as fo:
    # pickel로 저장(출력) -> dump(값, 출력stream)
    pickle.dump(num, fo)
    # num(int) -> bytes 변환 -> fo.write(byte)


# 읽기
with open("int_data.pkl","rb") as fi:
    result = pickle.load(fi) # 읽기 -> load(입력stream)
    # fi.read() : 반환 - bytes -> 원래타입으로 변환해서 반환


print(type(result))
print(result)


d = {
    "이름" : "홍길동",
    "나이" : 30,
    "주소" : "서울",
    "취미" : ["게임","운동"],
    "특기" : ("발표", "글쓰기"),
    "결혼여부" : True
}





with open("info.pickle","wb") as fo:
    pickle.dump(d, fo)


with open("info.pickle","rb") as fi:
    saved_info = pickle.load(fi)


type(saved_info)


saved_info















