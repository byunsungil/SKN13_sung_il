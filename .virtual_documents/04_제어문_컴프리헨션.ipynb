








num = int(input("정수를 입력하세요 : "))
# num이 0이면 0입니다 출력
if num == 0:
    print("0 입니다")
print("종료")





num = int(input("정수를 입력하세요 : "))
# num이 0이면 0입니다 출력
if num == 0:
    print("0 입니다")
else:
    print(f"0이 아닙니다. 입력받은 숫자는 {num}")
print("종료")





score = int(input("점수를 입력하세요 : "))
if score >= 90:
    print("A 입니다.")
elif 90 > score > 80:
    print("B 입니다.")
elif 80 > score > 70:
    print("C 입니다.")
elif 70 > score > 60:
    print("D 입니다.")
else:
    print("F 입니다.")








count = 0
limit = 10

while count < 10:
    count += 1
    print(f"{count}. 안녕하세요")
print("종료")





l = [1,2,4,56,12]
for a in l:
    print(a)


s = []
for a in l:
    s.append(a * 2)
print(s)


for a in l:
    if a % 3 == 0:
        print(f"3의 배수 {a}")
    else:
        print(f"{a}는 3의 배수가 아님")


d = {"a" : 10, "b" : 20, "c" : 30}
d.items()


for key,value in d.items():
    print(key,value)





l = [1,2,3,4,5,6,7,8,9,10]
# 짝수만 출력
for v in l:
    if v % 2 != 0:
        continue
    print(v)


for v in l:
    if v == 7:
        break
    print(v)


import random

random.randint(10,20)


# -100  ~ 100 까지 정수 난수 생성 양수는 pos 리스트에 음수는 neg 리스트에 저장, 0이 되면 종료

pos = []
neg = []

r = random.randint(-100,100)

while r != 0:
    if r > 0:
        pos.append(r)
    else:
        neg.append(r)
    r = random.randint(-100,100)
    
print("종료")
        
print(f"pos : {pos}\n")
print(f"neg : {neg}")


pos = []
neg = []

while r := random.randint(-100,100): # := (왈러스 연산자 - 대입연산자) - if / while 조건절. 값을 변수에 대입하고 반환
    if r > 0:
        pos.append(r)
    else:
        neg.append(r)
        
print("종료")

print(f"pos : {pos}\n")
print(f"neg : {neg}")





for i in range(10):
    print(i,end = "\t")


for i in range(10,20):
    print(i,end = "\t")


for i in range(10,20,2):
    print(i,end = "\t")





l = list(range(10,20))
for idx,value in enumerate(l): # "index, 값"
    print(idx, value)








name = ["홍길동", "이순신"]
age = [11,23]
address = ["서울","인천"]





l = [1,2,3,4,5,6]


# filtering
result = []
for v in l:
    if v % 2 == 0 :
        result.append(v)
result


# filtering을 comprehension 문법으로 구현
result4 = [v for v in l if v % 2 == 0] # 맨 앞 v가 .append(v)역할임.
result4





# mapping
result = []
for v in l:
    result.append(v * 2)
result


# mapping을 comprehension 문법으로 구현
result2 = [v for v in l]
print(result2)


result2 = [v*2 for v in l]
print(result2)


{v*2 for v in l}


{f"value{v}" : v*2 for v in l}


tuple(v*2 for v in l)





l2 = [
    [10,5,7],
    [3,50,4]
]

result = [] # l2 원소중 홀수만 저장

for a in l2:
    for b in a:
        if b % 2 != 0:
            result.append(b)
result


# 위 코드를 comprehension 문법으로 구현
result2 = [b for a in l2 for b in a if b % 2 != 0]
result2





# (1) 사용자로 부터 ID를 입력 받은 뒤 입력받은 ID가 5글자 이상이면 "사용할 수 있습니다."를 5글자 미만이면 "사용할 수 없는 ID입니다."를 출력하세요.
ID = input("사용할 ID를 입력하세요 : ")
if len(ID) >= 5:
    print("사용할 수 있습니다.")
else:
    print("사용할 수 없습니다.")


# (2) 사용자로부터 우리나라 도시명을 입력 받은 뒤 
# 입력받은 도시명이 서울이면 "특별시"를 인천,부산,광주,대구,대전,울산 이면 "광역시"를 나머지는 "특별시나 광역시가 아닙니다."를 출력하세요.
city = input("도시명을 입력하세요 : ")
if city == "서울":
    print(f"{city}특별시")
elif city in ["인천","부산","광주","대구","대전","울산"]:
    print(f"{city}광역시")
else:
    print("특별시나 광역시가 아닙니다.")


# (3-4)
# (3) 아래 리스트의 평균을 구하시오.
jumsu = [100, 90, 100, 80, 70, 100, 80, 90, 95, 85]

avr = sum(jumsu)/len(jumsu)
avr


# (4) 위 jumsu리스트에서 평균점수이상은 pass, 미만은 fail을 index번호와 함께 출력하시오. (ex: 0-pass, 1-pass, 2-fail)
for a in jumsu:
    if a >= avr:
        print(f"{a}-pass")
    else:
        print(f"{a}-fail")


# (5) 아래 리스트 값들 중 최대값을 조회해 출력하시오.
jumsu = [60, 90, 80, 80, 70, 55, 80, 90, 95, 85]
max(jumsu)


# (6) 사용자로부터 정수를 입력받아 그 정수 단의 구구단을 출력하시오.
# ex)
# 단을 입력하시오 : 2
# 2 x 1 = 2
# 2 x 2 = 4
# ..
# 2 x 9 = 18

num = int(input("단을 입력하시오 : "))
for a in range(1,10):
    print(f"{num} x {a} = {num*a}")

# 컴프리헨션



# (7) 다음 리스트의 원소들에 10배한 값을 (원래값, 10배값) 의 튜플 묶음으로 가지는 리스트를 만드시오 (리스트 컴프리헨션 이용)
# Ex) [(10,100), (30,300), .., (35, 350)]
lst = [10, 30, 70, 5, 5, 120, 700, 1, 35, 35]



# (8) 다음 리스트가 가진 값들 중 3의 배수만 가지는 리스트를 만드시오. (리스트 컴프리헨션 이용)
lst2 = [3, 20, 33, 21, 33, 8, 11, 10, 7, 17, 60, 120, 2]

[v for v in lst2 if v % 3 == 0]


# (9)) 다음 파일이름들을 담은 리스트에서 확장자가 exe인 파일만 골라서 새로운 리스트에 담으시오.(string의 endswith()함수 이용)
file_names = [
    "test.txt",
    "a.exe",
    "jupyter.bat",
    "function.exe",
    "b.exe",
    "cat.jpg",
    "dog.png",
    "run.exe",
    "i.dll",
]

file_exe = []

for f in file_names:
    if ".exe" in f:
        file_exe.append(f)
    else:
        pass

print(file_exe)


# (10) 다음 중 10글자 이상인 파일명(확장자포함)만 가지는 리스트를 만드시오.
file_names = [
    "mystroy.txt",
    "a.exe",
    "jupyter.bat",
    "function.exe",
    "b.exe",
    "cat.jpg",
    "dog.png",
    "run.exe",
    "i.dll",
]

ten_files = []

for t in file_names:
    if len(t) >= 10:
        ten_files.append(t)
    else:
        pass
print(ten_files)



