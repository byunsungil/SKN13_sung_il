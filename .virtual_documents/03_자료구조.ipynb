





l1 = [1,2,3,4,5]
print(l1)
print(type(l1))


l2 = ["이름",20,"A",True,"000-0000-0000"]
l2


l3 = [10,20,[30,40]]
l3








l = [0,1,2,3,4,5,6,7,8,9]
# indexing
print(l)
print(l[0])
print(l[-3])
# 변경
l[0] = 10000
print(l)
# slicing
print(l[0:5])
print(l[3:8:2])
# slicing 변경
l[1:4] = 200, 3000, 5000
print(l)





a = [1,2,3]
b = [100,200,300,400]
c = a + b
print(c)
d = a* 4
print(d)


# 원소 in 리스트
print(2 in c)
print(9011 in c)
print(2 not in c)





l = [
    [1,2,3],
    [10,20,30],
    [100,200,300]
]
l


l[1][0]





l = [10,20,30]
l.append(100) # 하나 추가
l


l.extend([1,2,3,4]) # 여러개 추가
l


l.insert(2,50) # 자리에 삽입
l


# 정렬 - sorted() 함수, sort() 메소드
# sorted() 함수 - 모든 자료구조를 받아서 정렬 한 결과를 list로 반환 (원본을 정렬하지 않는다.)
# sort() 메소드 - list용, list자체를 정렬.


s_l = sorted(l) # 오름차순
print(s_l)
r_l = sorted(l,reverse=True) # 내림차순
print(r_l)


l.sort(reverse=True)
l


l.remove(50) # 값으로 삭제
l


l.pop(0) # 인덱스로 삭제
l


l.clear() # 모두 삭제
bool(l)





t1 = (1,2,3,4,5)
t1


t2 = 6,7,8,9,10
t2


t3 = (100,)
type(t3)











t1 + t2


t1 * 3





t1.index(2)


t1.count(1)





d1 = { "이름" : "홍길동", "나이" : '65', "키" : 150 }
d1


d2 = { "이름" : "홍길동",
       "나이" : '65',
       "키" : 150,
       "취미" : ["영화감삼","음악감상","독서"],
       "주소" : {"시" : "서울시", "구" : "금천구"}
     }
d2


d3 = dict(이름= "홍길동", 취미 = "게임")
d3





d2["이름"]


d2["주소"]["구"]


d2["나이"] = 92943
d2


d2["전화번호"] = "010-0000-1010"
d2


d2["주소"]["동"] = "독산동"
d2











r = d2.get("키")
r


d2.keys()


d2.values()


d2.items()


del d2['전화번호']
d2
# d2.pop('전화번호')





s1 = {1,2,3,4,5}
s1


s2 = {1,1,1,1,2,2,3,3,4,4,4,5,6,5,5,6,6,6,6,5,5}
s2











s1.add(6)
s1


s1.update([7,7,8,9,7])
s1


s1.pop()
s1


s1.remove(2)
s1





a = {1,2,3,4}
b = {3,4,5,6}


a|b


a&b


a-b





x,y,z = [True,True,False]
print(x,y,z)





l = [1,2,3,4,5,6,7]
type(l)


t = tuple(l)
t


s = set(t)
s


l2 = list(s)
l2








# 문제 1 ~ 7
jumsu = [100, 90, 100, 80, 70, 100, 80, 90, 95, 85]
# 위 리스트는 학생번호 1번 ~ 10번까지 10명의 시험 점수이다.


# (1)  7번의 점수를 출력하세요
jumsu[6]


# (2)  1번부터 5번까지의 점수를 출력하세요.
jumsu[1:6]


# (3)  4, 5, 6, 7번의 점수를 출력하세요.
jumsu[3:7]


# (4) 짝수번째 점수를 출력하세요.
jumsu[1::2]


# (5) 홀수번째 점수를 출력하세요.
jumsu[::2]


# (6) 9번의 점수를 20으로 변경하고 전체 출력하세요.
jumsu[8] = 20
jumsu


# (7) 중복된 점수는 제거하고 하나씩만 나오도록 출력하세요.
set(jumsu)


# 문제 8 ~ 9
fruits = ["복숭아", "수박", "딸기"]


# (8) fruits 리스트에 마지막 원소로 "사과", "귤"을 추가하세요.
fruits.append("사과")
fruits.append("귤")
fruits


# (9) fruits 리스트에서 "복숭아"를 제거하세요.
fruits.remove("복숭아")
fruits


# 문제 10 ~ 15
# (10)본인의 이름, 나이, email주소, 취미, 결혼유무를 사전(딕셔너리)으로 생성.
# 취미는 2개 이상의 값을 넣는다..
my_info = {"이름" : "변성일", "나이" : 27, "email" : "erety4100@naver.com", "취미" : ["게임","야구"], "결혼유무" : "무"}


# (11) 위 딕셔너리에서 이름과 email주소를 조회해서 출력하세요.
print(my_info["이름"])
print(my_info["email"])


# (12) 위 딕셔너리에서 취미중 두번째 취미를 조회해서 출력하세요
my_info["취미"][1]


# (13) 위 딕셔너리에 몸무게와 키 항목을 추가하세요.
my_info["몸무게"] = 600
my_info["키"] = 210


# (14) 위 딕셔너리에서 email 주소를 다른 값으로 변경하세요.
my_info["email"] = "mymail@naver.com"
my_info


# (15) 위 딕셔너리에서 나이를 제거하세요.
my_info.pop("나이")


my_info



