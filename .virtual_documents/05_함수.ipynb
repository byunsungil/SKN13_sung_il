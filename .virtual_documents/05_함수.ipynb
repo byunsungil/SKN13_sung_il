








# 함수 정의
# 입력값과 return이 없는 함수
def greet():
    print("ㅎㅇ")
    print("ㅂㅇ")


greet()


# 파라미터가 있는 함수
def hi(name):
    print(f"{name} hi!")


hi("홍길동")





def plus(x,y):
    p = x+y
    return p


plus(5,65)





def print_info(name):
    print(f"이름 : {name}")
    
print_info("홍길동")


def print_info2(name = None):
    print(f"이름 : {name}")
    
print_info2()


def print_info3(name, age, address, tall=0, weight=0):
    print(name, age, address, tall, weight)
    
print_info3("홍길동",32,"부산")





def print_info3(name, age, address, tall=0, weight=0):
    print(name, age, address, tall, weight)
    
print_info3("홍길동",32,"부산") #  Positional argument (순서에 맞춰 값을 전달)
print_info3(name="이순신",age = 30, address = "경기", tall = 200.1) # Keyword argument : 파라미터이름 = 전달할값





def test(*a):
    print(type(a))

test(1,2,3,4)


def test(**b):
    print(type(a))

test(name = "홍길동", age = 20)


# ex 숫자들의 합계를 계산하는 함수
def my_sum(*nums):
    result = 0
    for v in nums:
        result += v
    return result

a = my_sum(1,2,3,123,65,235,34,23,123)
a









































# 1. 시작 정수, 끝 정수를 받아 그 사이의 모든 정수의 합을 구해서 반환하는 함수를 구현(ex: 1, 20 => 1에서 20 사이의 모든 정수의 합계)


# 2. 2번 문제에서 시작을 받지 않은 경우 0을, 끝 정수를 받지 않으면 10이 들어가도록 구현을 변경


# 3. 구구단을 출력하는 함수를 구현한다. 입력으로 출력하고 싶은 단을 parameter로 입력받아서 `N * 1` ~ `N * 9` 를 출력한다. (N: 입력받은 단)


# 4. 체질량 지수는 비만도를 나타내는 지수로 키가 a미터 이고 몸무게가 b kg일때 b/(a**2) 로 구한다.
# 체질량 지수가
# - 18.5 미만이면 저체중
# - 18.5이상 25미만이면 정상
# - 25이상이면 과체중
# - 30이상이면 비만으로 하는데
# 몸무게와 키를 매개변수로 받아 비만인지 과체중인지 반환하는 함수를 구현하시오.
